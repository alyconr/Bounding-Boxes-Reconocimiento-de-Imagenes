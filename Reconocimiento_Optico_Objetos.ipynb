{
 "cells": [
  {
   "cell_type": "markdown",
   "metadata": {},
   "source": [
    "# 1. Preparación de Entorno"
   ]
  },
  {
   "cell_type": "code",
   "execution_count": 1,
   "metadata": {},
   "outputs": [],
   "source": [
    " dotenv import load_dotenv\n",
    "import os\n",
    "\n",
    "# Carga las variables de entorno desde el archivo .env\n",
    "load_dotenv()\n",
    "\n",
    "bucket = \"datasetsbdajac\"\n",
    "\n",
    "#Utilitario para manifrompular los servicios de AWS\n",
    "import boto3"
   ]
  },
  {
   "cell_type": "code",
   "execution_count": 2,
   "metadata": {},
   "outputs": [],
   "source": [
    "access_key_id = os.getenv('AWS_ACCESS_KEY_ID')\n",
    "secret_access_key = os.getenv('AWS_SECRET_ACCESS_KEY')\n",
    "region = os.getenv('AWS_DEFAULT_REGION')"
   ]
  },
  {
   "cell_type": "markdown",
   "metadata": {},
   "source": [
    "# 2. Conexión al servicio"
   ]
  },
  {
   "cell_type": "code",
   "execution_count": 4,
   "metadata": {},
   "outputs": [],
   "source": [
    "#Obtenemos el cliente de servicio\n",
    "rekognition = boto3.client(\n",
    "  \"rekognition\", #Servicio al que nos conectamos\n",
    "  aws_access_key_id = access_key_id, #Identificador de la clave\n",
    "  aws_secret_access_key = secret_access_key, #Contraseña de la clave\n",
    "  region_name = region #Región de la clave\n",
    ")"
   ]
  },
  {
   "cell_type": "markdown",
   "metadata": {},
   "source": [
    "# 3. Envío de consulta"
   ]
  },
  {
   "cell_type": "markdown",
   "metadata": {},
   "source": []
  },
  {
   "cell_type": "code",
   "execution_count": 5,
   "metadata": {},
   "outputs": [],
   "source": [
    "#Enviamos la consulta\n",
    "#Es una consulta asíncrona\n",
    "respuesta = rekognition.detect_labels(\n",
    "    Image = { #Indicamos la imagen\n",
    "        \"S3Object\": { #Físicamente, la imagen se encuentra en S3\n",
    "            \"Bucket\": bucket, #Bucket de la imagen, CAMBIAR \"XXX\" por nuestras iniciales\n",
    "            \"Name\": \"imagenes/IMAGEN_2.jpg\" #Ruta de la imagen\n",
    "        }\n",
    "    },\n",
    "    MaxLabels = 10 #Cantidad máxima de entidades que queremos detectar\n",
    ")"
   ]
  },
  {
   "cell_type": "markdown",
   "metadata": {},
   "source": [
    "# 4. Análisis de la respuesta"
   ]
  },
  {
   "cell_type": "code",
   "execution_count": 6,
   "metadata": {},
   "outputs": [
    {
     "data": {
      "text/plain": [
       "{'Name': 'Photography',\n",
       " 'Confidence': 99.94345092773438,\n",
       " 'Instances': [],\n",
       " 'Parents': [],\n",
       " 'Aliases': [{'Name': 'Photo'}],\n",
       " 'Categories': [{'Name': 'Hobbies and Interests'}]}"
      ]
     },
     "execution_count": 6,
     "metadata": {},
     "output_type": "execute_result"
    }
   ],
   "source": [
    "#Las entidades reconocidas se encuentran en la variable \"Labels\"\n",
    "#Analicemos la primera entidad encontrada\n",
    "#En la variable \"Name\" vemos la entidad detectada\n",
    "#En la variable \"Instances\" si son OBJETOS o si son DESCRIPCIONES\n",
    "respuesta[\"Labels\"][0]"
   ]
  },
  {
   "cell_type": "code",
   "execution_count": 7,
   "metadata": {},
   "outputs": [
    {
     "data": {
      "text/plain": [
       "{'Name': 'Person',\n",
       " 'Confidence': 97.91618347167969,\n",
       " 'Instances': [{'BoundingBox': {'Width': 0.11297222971916199,\n",
       "    'Height': 0.7152727246284485,\n",
       "    'Left': 0.4107826054096222,\n",
       "    'Top': 0.26713359355926514},\n",
       "   'Confidence': 96.00708770751953},\n",
       "  {'BoundingBox': {'Width': 0.16902107000350952,\n",
       "    'Height': 0.8017257452011108,\n",
       "    'Left': 0.4894786477088928,\n",
       "    'Top': 0.16630369424819946},\n",
       "   'Confidence': 89.83811950683594},\n",
       "  {'BoundingBox': {'Width': 0.12308807671070099,\n",
       "    'Height': 0.6766061782836914,\n",
       "    'Left': 0.20343667268753052,\n",
       "    'Top': 0.323275089263916},\n",
       "   'Confidence': 89.00283813476562}],\n",
       " 'Parents': [],\n",
       " 'Aliases': [{'Name': 'Human'}],\n",
       " 'Categories': [{'Name': 'Person Description'}]}"
      ]
     },
     "execution_count": 7,
     "metadata": {},
     "output_type": "execute_result"
    }
   ],
   "source": [
    "#Analicemos la segunda entidad encontrada\n",
    "#En la variable \"Name\" vemos la entidad detectada\n",
    "#En la variable \"Instances\" si son OBJETOS o si son DESCRIPCIONES\n",
    "respuesta[\"Labels\"][1]"
   ]
  },
  {
   "cell_type": "code",
   "execution_count": 8,
   "metadata": {},
   "outputs": [
    {
     "name": "stdout",
     "output_type": "stream",
     "text": [
      "Descripcion encontrada: Photography\n",
      "Objeto encontrado:Person\n",
      "Descripcion encontrada: Walking\n",
      "Descripcion encontrada: Park\n",
      "Objeto encontrado:Female\n",
      "Objeto encontrado:Girl\n",
      "Objeto encontrado:Teen\n",
      "Objeto encontrado:Jeans\n",
      "Descripcion encontrada: Pants\n",
      "Objeto encontrado:Dog\n"
     ]
    }
   ],
   "source": [
    "#Iteremos cada entidad detectada\n",
    "for analisis in respuesta[\"Labels\"]:\n",
    "\n",
    "  #Descripciones\n",
    "  if len(analisis[\"Instances\"]) == 0:\n",
    "    print(\"Descripcion encontrada: \"+analisis[\"Name\"])\n",
    "\n",
    "  #Objetos\n",
    "  else:\n",
    "    print(\"Objeto encontrado:\"+analisis[\"Name\"])"
   ]
  },
  {
   "cell_type": "markdown",
   "metadata": {},
   "source": [
    "# 5. Modelamiento de las descripciones"
   ]
  },
  {
   "cell_type": "code",
   "execution_count": 9,
   "metadata": {},
   "outputs": [],
   "source": [
    "#Acumulador de lineas\n",
    "descripciones = \"\""
   ]
  },
  {
   "cell_type": "code",
   "execution_count": 10,
   "metadata": {},
   "outputs": [
    {
     "name": "stdout",
     "output_type": "stream",
     "text": [
      "Photography|99.94345092773438\n",
      "Walking|97.91618347167969\n",
      "Park|96.988037109375\n",
      "Pants|95.84716796875\n"
     ]
    }
   ],
   "source": [
    "#Iteramos cada línea\n",
    "for analisis in respuesta[\"Labels\"]:\n",
    "\n",
    "  #Filtramos sólo las descripciones\n",
    "  if len(analisis[\"Instances\"]) == 0:\n",
    "\n",
    "    #Definimos la linea\n",
    "    linea = (\n",
    "        str(analisis[\"Name\"]) + \"|\" + #Descripción\n",
    "        str(analisis[\"Confidence\"]) #Probabilidad\n",
    "    )\n",
    "\n",
    "    #Imprimimos la línea\n",
    "    print(linea)\n",
    "\n",
    "    #Agregamos la línea y un salto de línea\n",
    "    descripciones = descripciones + linea + \"\\n\""
   ]
  },
  {
   "cell_type": "code",
   "execution_count": 11,
   "metadata": {},
   "outputs": [
    {
     "name": "stdout",
     "output_type": "stream",
     "text": [
      "Descripcion|Probabilidad\n",
      "Photography|99.94345092773438\n",
      "Walking|97.91618347167969\n",
      "Park|96.988037109375\n",
      "Pants|95.84716796875\n",
      "\n"
     ]
    }
   ],
   "source": [
    "#Agregamos una cabecera\n",
    "descripciones = \"Descripcion|Probabilidad\" + \"\\n\" + descripciones\n",
    "\n",
    "#Verificamos\n",
    "print(descripciones)"
   ]
  },
  {
   "cell_type": "markdown",
   "metadata": {},
   "source": [
    "# 6. Análisis de los objetos detectados"
   ]
  },
  {
   "cell_type": "code",
   "execution_count": 12,
   "metadata": {},
   "outputs": [],
   "source": [
    "#Acumulador de lineas\n",
    "objetos = \"\""
   ]
  },
  {
   "cell_type": "code",
   "execution_count": 13,
   "metadata": {},
   "outputs": [
    {
     "name": "stdout",
     "output_type": "stream",
     "text": [
      "{'BoundingBox': {'Width': 0.11297222971916199, 'Height': 0.7152727246284485, 'Left': 0.4107826054096222, 'Top': 0.26713359355926514}, 'Confidence': 96.00708770751953}\n",
      "{'BoundingBox': {'Width': 0.16902107000350952, 'Height': 0.8017257452011108, 'Left': 0.4894786477088928, 'Top': 0.16630369424819946}, 'Confidence': 89.83811950683594}\n",
      "{'BoundingBox': {'Width': 0.12308807671070099, 'Height': 0.6766061782836914, 'Left': 0.20343667268753052, 'Top': 0.323275089263916}, 'Confidence': 89.00283813476562}\n",
      "{'BoundingBox': {'Width': 0.11297222971916199, 'Height': 0.7152727246284485, 'Left': 0.4107826054096222, 'Top': 0.26713359355926514}, 'Confidence': 96.00708770751953}\n",
      "{'BoundingBox': {'Width': 0.12308807671070099, 'Height': 0.6766061782836914, 'Left': 0.20343667268753052, 'Top': 0.323275089263916}, 'Confidence': 89.00283813476562}\n",
      "{'BoundingBox': {'Width': 0.11297222971916199, 'Height': 0.7152727246284485, 'Left': 0.4107826054096222, 'Top': 0.26713359355926514}, 'Confidence': 96.00708770751953}\n",
      "{'BoundingBox': {'Width': 0.11297222971916199, 'Height': 0.7152727246284485, 'Left': 0.4107826054096222, 'Top': 0.26713359355926514}, 'Confidence': 96.00708770751953}\n",
      "{'BoundingBox': {'Width': 0.09780658036470413, 'Height': 0.4332854747772217, 'Left': 0.4244580566883087, 'Top': 0.5382387638092041}, 'Confidence': 95.84716796875}\n",
      "{'BoundingBox': {'Width': 0.19253234565258026, 'Height': 0.2954314649105072, 'Left': 0.5474509000778198, 'Top': 0.7037662863731384}, 'Confidence': 94.00374603271484}\n"
     ]
    }
   ],
   "source": [
    "#Iteramos cada línea\n",
    "for analisis in respuesta[\"Labels\"]:\n",
    "\n",
    "  #Filtramos sólo los objetos\n",
    "  if len(analisis[\"Instances\"]) > 0:\n",
    "\n",
    "    #Iteramos cada objeto\n",
    "    for objeto in analisis[\"Instances\"]:\n",
    "\n",
    "      #Analizamos cada objeto\n",
    "      #Cada objeto tiene su \"BoundingBox\" (rectángulo) y la probabilidad\n",
    "      #El problema es que los \"BoundingBox\" están escalados entre 0 y 1\n",
    "      print(objeto)"
   ]
  },
  {
   "cell_type": "markdown",
   "metadata": {},
   "source": [
    "# 7. Des-normalización de los Bounding Box"
   ]
  },
  {
   "cell_type": "code",
   "execution_count": 15,
   "metadata": {},
   "outputs": [],
   "source": [
    "#Obtenemos el cliente de servicio\n",
    "s3 = boto3.client(\n",
    "  \"s3\", #Servicio al que nos conectamos\n",
    "  aws_access_key_id = access_key_id, #Identificador de la clave\n",
    "  aws_secret_access_key = secret_access_key, #Contraseña de la clave\n",
    "  region_name = region #Región de la clave\n",
    ")"
   ]
  },
  {
   "cell_type": "code",
   "execution_count": 16,
   "metadata": {},
   "outputs": [],
   "source": [
    "#Obtenemos la imagen desde S3\n",
    "archivo = s3.get_object(\n",
    "  Bucket = bucket,\n",
    "  Key = \"imagenes/IMAGEN_2.jpg\"\n",
    ")"
   ]
  },
  {
   "cell_type": "code",
   "execution_count": 17,
   "metadata": {},
   "outputs": [],
   "source": [
    "#Leemos la imagen binarizada\n",
    "contenidoBinarioDeImagen = archivo[\"Body\"].read()"
   ]
  },
  {
   "cell_type": "code",
   "execution_count": 18,
   "metadata": {},
   "outputs": [],
   "source": [
    "#Utilitario para cargar contenido binario\n",
    "from io import BytesIO"
   ]
  },
  {
   "cell_type": "code",
   "execution_count": 19,
   "metadata": {},
   "outputs": [],
   "source": [
    "#Utilitario para recibir contenido binario proveniente de una imagen\n",
    "from PIL import Image"
   ]
  },
  {
   "cell_type": "code",
   "execution_count": 20,
   "metadata": {},
   "outputs": [],
   "source": [
    "#Leemos la imagen\n",
    "imagen = Image.open(BytesIO(contenidoBinarioDeImagen))"
   ]
  },
  {
   "cell_type": "code",
   "execution_count": 21,
   "metadata": {},
   "outputs": [],
   "source": [
    "#Obtiene las dimensiones de la imagen\n",
    "width, height = imagen.size"
   ]
  },
  {
   "cell_type": "code",
   "execution_count": 22,
   "metadata": {},
   "outputs": [
    {
     "data": {
      "text/plain": [
       "(1380, 920)"
      ]
     },
     "execution_count": 22,
     "metadata": {},
     "output_type": "execute_result"
    }
   ],
   "source": [
    "#Verificamos\n",
    "width, height"
   ]
  },
  {
   "cell_type": "code",
   "execution_count": 23,
   "metadata": {},
   "outputs": [
    {
     "name": "stdout",
     "output_type": "stream",
     "text": [
      "566|245|155|658\n",
      "675|152|233|737\n",
      "280|297|169|622\n",
      "566|245|155|658\n",
      "280|297|169|622\n",
      "566|245|155|658\n",
      "566|245|155|658\n",
      "585|495|134|398\n",
      "755|647|265|271\n"
     ]
    }
   ],
   "source": [
    "#Iteramos cada línea\n",
    "for analisis in respuesta[\"Labels\"]:\n",
    "\n",
    "  #Filtramos sólo los objetos\n",
    "  if len(analisis[\"Instances\"]) > 0:\n",
    "\n",
    "    #Iteramos cada objeto\n",
    "    for objeto in analisis[\"Instances\"]:\n",
    "      #Des-normalizamos\n",
    "      x = int(objeto[\"BoundingBox\"][\"Left\"] * width)\n",
    "      y = int(objeto[\"BoundingBox\"][\"Top\"] * height)\n",
    "      w = int(objeto[\"BoundingBox\"][\"Width\"] * width)\n",
    "      h = int(objeto[\"BoundingBox\"][\"Height\"] * height)\n",
    "\n",
    "      #Definimos la línea\n",
    "      linea = (\n",
    "          str(x) + \"|\" +\n",
    "          str(y) + \"|\" +\n",
    "          str(w) + \"|\" +\n",
    "          str(h)\n",
    "      )\n",
    "\n",
    "      #Verificamos\n",
    "      print(linea)"
   ]
  },
  {
   "cell_type": "code",
   "execution_count": 24,
   "metadata": {},
   "outputs": [],
   "source": [
    "#Acumulador de lineas\n",
    "objetos = \"\""
   ]
  },
  {
   "cell_type": "code",
   "execution_count": 25,
   "metadata": {},
   "outputs": [
    {
     "name": "stdout",
     "output_type": "stream",
     "text": [
      "Person|96.00708770751953|566|245|155|658\n",
      "Person|89.83811950683594|675|152|233|737\n",
      "Person|89.00283813476562|280|297|169|622\n",
      "Female|96.00708770751953|566|245|155|658\n",
      "Female|89.00283813476562|280|297|169|622\n",
      "Girl|96.00708770751953|566|245|155|658\n",
      "Teen|96.00708770751953|566|245|155|658\n",
      "Jeans|95.84716796875|585|495|134|398\n",
      "Dog|94.00374603271484|755|647|265|271\n"
     ]
    }
   ],
   "source": [
    "#Iteramos cada línea\n",
    "for analisis in respuesta[\"Labels\"]:\n",
    "\n",
    "  #Filtramos sólo los objetos\n",
    "  if len(analisis[\"Instances\"]) > 0:\n",
    "\n",
    "    #Iteramos cada objeto\n",
    "    for objeto in analisis[\"Instances\"]:\n",
    "      #Des-normalizamos\n",
    "      x = int(objeto[\"BoundingBox\"][\"Left\"] * width)\n",
    "      y = int(objeto[\"BoundingBox\"][\"Top\"] * height)\n",
    "      w = int(objeto[\"BoundingBox\"][\"Width\"] * width)\n",
    "      h = int(objeto[\"BoundingBox\"][\"Height\"] * height)\n",
    "\n",
    "      #Definimos la línea\n",
    "      linea = (\n",
    "          str(analisis[\"Name\"]) + \"|\" +\n",
    "          str(objeto[\"Confidence\"]) + \"|\" +\n",
    "          str(x) + \"|\" +\n",
    "          str(y) + \"|\" +\n",
    "          str(w) + \"|\" +\n",
    "          str(h)\n",
    "      )\n",
    "\n",
    "      #Verificamos\n",
    "      print(linea)\n",
    "\n",
    "      #Agregamos la línea y un salto de línea\n",
    "      objetos = objetos + linea + \"\\n\""
   ]
  },
  {
   "cell_type": "code",
   "execution_count": 26,
   "metadata": {},
   "outputs": [
    {
     "name": "stdout",
     "output_type": "stream",
     "text": [
      "Objeto|Probabilidad|x|y|w|h\n",
      "Person|96.00708770751953|566|245|155|658\n",
      "Person|89.83811950683594|675|152|233|737\n",
      "Person|89.00283813476562|280|297|169|622\n",
      "Female|96.00708770751953|566|245|155|658\n",
      "Female|89.00283813476562|280|297|169|622\n",
      "Girl|96.00708770751953|566|245|155|658\n",
      "Teen|96.00708770751953|566|245|155|658\n",
      "Jeans|95.84716796875|585|495|134|398\n",
      "Dog|94.00374603271484|755|647|265|271\n",
      "\n"
     ]
    }
   ],
   "source": [
    "#Agregamos una cabecera\n",
    "objetos = \"Objeto|Probabilidad|x|y|w|h\" + \"\\n\" + objetos\n",
    "\n",
    "#Verificamos\n",
    "print(objetos)"
   ]
  }
 ],
 "metadata": {
  "kernelspec": {
   "display_name": "base",
   "language": "python",
   "name": "python3"
  },
  "language_info": {
   "codemirror_mode": {
    "name": "ipython",
    "version": 3
   },
   "file_extension": ".py",
   "mimetype": "text/x-python",
   "name": "python",
   "nbconvert_exporter": "python",
   "pygments_lexer": "ipython3",
   "version": "3.12.4"
  }
 },
 "nbformat": 4,
 "nbformat_minor": 2
}
