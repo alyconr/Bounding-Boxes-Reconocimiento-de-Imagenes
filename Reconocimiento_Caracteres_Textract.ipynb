{
 "cells": [
  {
   "cell_type": "markdown",
   "metadata": {},
   "source": [
    "# 1. Preparación de Entorno"
   ]
  },
  {
   "cell_type": "code",
   "execution_count": 4,
   "metadata": {},
   "outputs": [],
   "source": [
    "from dotenv import load_dotenv\n",
    "import os\n",
    "\n",
    "# Carga las variables de entorno desde el archivo .env\n",
    "load_dotenv()\n",
    "\n",
    "bucket = \"datasetsbdajac\"\n",
    "\n",
    "#Utilitario para manipular los servicios de AWS\n",
    "import boto3"
   ]
  },
  {
   "cell_type": "code",
   "execution_count": 2,
   "metadata": {},
   "outputs": [],
   "source": [
    "access_key_id = os.getenv('AWS_ACCESS_KEY_ID')\n",
    "secret_access_key = os.getenv('AWS_SECRET_ACCESS_KEY')\n",
    "region = os.getenv('AWS_DEFAULT_REGION')"
   ]
  },
  {
   "cell_type": "markdown",
   "metadata": {},
   "source": [
    "# 2. Conexión al servicio"
   ]
  },
  {
   "cell_type": "code",
   "execution_count": 3,
   "metadata": {},
   "outputs": [],
   "source": [
    "#Obtenemos el cliente de servicio\n",
    "textract = boto3.client(\n",
    "  \"textract\", #Servicio al que nos conectamos\n",
    "  aws_access_key_id = access_key_id, #Identificador de la clave\n",
    "  aws_secret_access_key = secret_access_key, #Contraseña de la clave\n",
    "  region_name = region #Región de la clave\n",
    ")"
   ]
  },
  {
   "cell_type": "markdown",
   "metadata": {},
   "source": [
    "# 3. Envío de consulta"
   ]
  },
  {
   "cell_type": "code",
   "execution_count": 5,
   "metadata": {},
   "outputs": [],
   "source": [
    "#Enviamos la consulta\n",
    "#Es una consulta asíncrona\n",
    "respuesta = textract.start_document_text_detection(\n",
    "    DocumentLocation = { #Indicamos la imagen\n",
    "        \"S3Object\": { #Físicamente, la imagen se encuentra en S3\n",
    "            \"Bucket\": bucket, #Bucket de la imagen, CAMBIAR \"XXX\" por nuestras iniciales\n",
    "            \"Name\": \"imagenes/IMAGEN_1.jpg\" #Ruta de la imagen\n",
    "        }\n",
    "    }\n",
    ")"
   ]
  },
  {
   "cell_type": "code",
   "execution_count": 6,
   "metadata": {},
   "outputs": [],
   "source": [
    "#Obtenemos el Identificador del proceso\n",
    "idProceso = respuesta[\"JobId\"]"
   ]
  },
  {
   "cell_type": "code",
   "execution_count": 7,
   "metadata": {},
   "outputs": [
    {
     "name": "stdout",
     "output_type": "stream",
     "text": [
      "9a9837dab087e134d3b0500c7f4fb09accf54ace48f32e7818682649b778ebc2\n"
     ]
    }
   ],
   "source": [
    "#Verificamos\n",
    "print(idProceso)"
   ]
  },
  {
   "cell_type": "markdown",
   "metadata": {},
   "source": [
    "# 4. Bucle de espera hasta la finalización del proceso"
   ]
  },
  {
   "cell_type": "code",
   "execution_count": 8,
   "metadata": {},
   "outputs": [],
   "source": [
    "#Obtenemos el proceso según su identificador\n",
    "proceso = textract.get_document_text_detection(JobId = idProceso)"
   ]
  },
  {
   "cell_type": "code",
   "execution_count": 9,
   "metadata": {},
   "outputs": [
    {
     "name": "stdout",
     "output_type": "stream",
     "text": [
      "SUCCEEDED\n"
     ]
    }
   ],
   "source": [
    "#Verificamos el estado del proceso\n",
    "#Deberemos esperar a que el estado se coloque en \"SUCCEEDED\" o \"FAILED\"\n",
    "print(proceso[\"JobStatus\"])"
   ]
  },
  {
   "cell_type": "code",
   "execution_count": 10,
   "metadata": {},
   "outputs": [],
   "source": [
    "#Librería para pausar el código\n",
    "import time"
   ]
  },
  {
   "cell_type": "code",
   "execution_count": 11,
   "metadata": {},
   "outputs": [
    {
     "name": "stdout",
     "output_type": "stream",
     "text": [
      "Proceso finalizado!\n"
     ]
    }
   ],
   "source": [
    "#Entramos en bucle infinito\n",
    "#TIEMPO: 3 MINUTOS\n",
    "while True:\n",
    "\n",
    "  #Obtenemos el proceso según su identificador\n",
    "  proceso = textract.get_document_text_detection(JobId = idProceso)\n",
    "\n",
    "  #Verificamos el estado\n",
    "  if proceso[\"JobStatus\"] in [\"SUCCEEDED\", \"FAILED\"]:\n",
    "    #Indicamos la finalización del proceso\n",
    "    print(\"Proceso finalizado!\")\n",
    "\n",
    "    #Si finalizó, salimos del bucle infinito\n",
    "    break\n",
    "  else:\n",
    "    #Mostramos el estado del proceso\n",
    "    print(proceso[\"JobStatus\"])\n",
    "\n",
    "  #Detenemos el código por 5 segundos antes de repetir el bucle\n",
    "  time.sleep(5)"
   ]
  },
  {
   "cell_type": "markdown",
   "metadata": {},
   "source": [
    "# 5. Análisis de la respuesta"
   ]
  },
  {
   "cell_type": "code",
   "execution_count": 12,
   "metadata": {},
   "outputs": [],
   "source": [
    "#Obtenemos el proceso según su identificador\n",
    "proceso = textract.get_document_text_detection(JobId = idProceso)"
   ]
  },
  {
   "cell_type": "code",
   "execution_count": 13,
   "metadata": {},
   "outputs": [
    {
     "name": "stdout",
     "output_type": "stream",
     "text": [
      "SUCCEEDED\n"
     ]
    }
   ],
   "source": [
    "#Mostramos el estado de finalización del proceso\n",
    "print(proceso[\"JobStatus\"])"
   ]
  },
  {
   "cell_type": "code",
   "execution_count": 14,
   "metadata": {},
   "outputs": [
    {
     "name": "stdout",
     "output_type": "stream",
     "text": [
      "La confluencia entre la novela y la filosofía española de principios del\n",
      "siglo XX es el hilo conductor de este trabajo, que nace del interés por\n",
      "mostrar una relectura, en clave hermenéutica, del vigor filosófico pre-\n",
      "sente en la novelística del momento. Dicho período se inaugura con el\n",
      "desastre de la Guerra de Cuba, conflicto que propiciará la emergencia\n",
      "de un grupo de intelectuales imprescindibles en el desarrollo del pen-\n",
      "samiento español: la generación del 98. Pero el marco contextual per-\n",
      "tenece a un radio de acción mucho más amplio que tiene que ver con\n",
      "los movimientos políticos, culturales y sociales que se registran en esa\n",
      "misma época a nivel europeo. Es decir, no estamos ante una circuns-\n",
      "tancia aislada en el espacio y el tiempo, sino todo lo contrario: la huida\n",
      "del solipsismo y del envejecido marco político-cultural hace que los\n",
      "autores de la generación del 98 asuman las corrientes de pensamiento\n",
      "que comenzaban su andadura en el resto de Europa.\n",
      "El proceso al que aludimos, aunque iniciado propiamente en España\n",
      "por los autores del 98, cuenta con remotos antecedentes que cabe ras-\n",
      "trear hasta El Quijote. Considerada por la crítica como la primera novela\n",
      "moderna, apunta temas y técnicas de estilo que luego estarán presentes\n",
      "en los autores del 98 hasta el punto de considerar la historia del hidal-\n",
      "go como representativa de la circunstancia y <<problema español. En\n",
      "sintonía con estas ideas se muestra Ortega y Gasset en sus Meditaciones\n",
      "del Quijote, de 1914 Bajo la denominación del problema de España>> se\n",
      "encuentra todo un sentir generacional que, si bien en los autores del 98\n",
      "se presenta desde una perspectiva trágica-contemplativa, en el caso de\n",
      "Ortega resurge como base para promover una regeneración social, polí-\n",
      "tica y cultural activa que no es ajena a los acontecimientos de la Europa\n",
      "del momento. Novela y Filosofía: De la Generación del 98 a José Ortega y\n",
      "Gasset ofrece, en clave filosófica, una propuesta de comprensión de un\n",
      "período determinante para la configuración de las teorías políticas y\n",
      "culturales del presente.\n",
      "ATH\n",
      "ebooks\n",
      "www.athenaica.com\n",
      "9 788417 325329\n"
     ]
    }
   ],
   "source": [
    "#En la variable \"Blocks\" se encuentran los textos\n",
    "for linea in proceso[\"Blocks\"]:\n",
    "\n",
    "  #Filtramos sólo las LINE\n",
    "  if linea[\"BlockType\"] == \"LINE\":\n",
    "    print(linea[\"Text\"])"
   ]
  },
  {
   "cell_type": "markdown",
   "metadata": {},
   "source": [
    "# 6. Modelamiento"
   ]
  },
  {
   "cell_type": "code",
   "execution_count": 15,
   "metadata": {},
   "outputs": [],
   "source": [
    "#Acumulador de lineas\n",
    "texto = \"\""
   ]
  },
  {
   "cell_type": "code",
   "execution_count": 16,
   "metadata": {},
   "outputs": [],
   "source": [
    "#Iteramos cada línea\n",
    "for linea in proceso[\"Blocks\"]:\n",
    "\n",
    "  #Filtramos sólo las LINE\n",
    "  if linea[\"BlockType\"] == \"LINE\":\n",
    "\n",
    "    #Agregamos la línea y un salto de línea\n",
    "    texto = texto + linea[\"Text\"] + \"\\n\""
   ]
  },
  {
   "cell_type": "code",
   "execution_count": 17,
   "metadata": {},
   "outputs": [
    {
     "name": "stdout",
     "output_type": "stream",
     "text": [
      "La confluencia entre la novela y la filosofía española de principios del\n",
      "siglo XX es el hilo conductor de este trabajo, que nace del interés por\n",
      "mostrar una relectura, en clave hermenéutica, del vigor filosófico pre-\n",
      "sente en la novelística del momento. Dicho período se inaugura con el\n",
      "desastre de la Guerra de Cuba, conflicto que propiciará la emergencia\n",
      "de un grupo de intelectuales imprescindibles en el desarrollo del pen-\n",
      "samiento español: la generación del 98. Pero el marco contextual per-\n",
      "tenece a un radio de acción mucho más amplio que tiene que ver con\n",
      "los movimientos políticos, culturales y sociales que se registran en esa\n",
      "misma época a nivel europeo. Es decir, no estamos ante una circuns-\n",
      "tancia aislada en el espacio y el tiempo, sino todo lo contrario: la huida\n",
      "del solipsismo y del envejecido marco político-cultural hace que los\n",
      "autores de la generación del 98 asuman las corrientes de pensamiento\n",
      "que comenzaban su andadura en el resto de Europa.\n",
      "El proceso al que aludimos, aunque iniciado propiamente en España\n",
      "por los autores del 98, cuenta con remotos antecedentes que cabe ras-\n",
      "trear hasta El Quijote. Considerada por la crítica como la primera novela\n",
      "moderna, apunta temas y técnicas de estilo que luego estarán presentes\n",
      "en los autores del 98 hasta el punto de considerar la historia del hidal-\n",
      "go como representativa de la circunstancia y <<problema español. En\n",
      "sintonía con estas ideas se muestra Ortega y Gasset en sus Meditaciones\n",
      "del Quijote, de 1914 Bajo la denominación del problema de España>> se\n",
      "encuentra todo un sentir generacional que, si bien en los autores del 98\n",
      "se presenta desde una perspectiva trágica-contemplativa, en el caso de\n",
      "Ortega resurge como base para promover una regeneración social, polí-\n",
      "tica y cultural activa que no es ajena a los acontecimientos de la Europa\n",
      "del momento. Novela y Filosofía: De la Generación del 98 a José Ortega y\n",
      "Gasset ofrece, en clave filosófica, una propuesta de comprensión de un\n",
      "período determinante para la configuración de las teorías políticas y\n",
      "culturales del presente.\n",
      "ATH\n",
      "ebooks\n",
      "www.athenaica.com\n",
      "9 788417 325329\n",
      "\n"
     ]
    },
    {
     "ename": "",
     "evalue": "",
     "output_type": "error",
     "traceback": [
      "\u001b[1;31mThe Kernel crashed while executing code in the current cell or a previous cell. \n",
      "\u001b[1;31mPlease review the code in the cell(s) to identify a possible cause of the failure. \n",
      "\u001b[1;31mClick <a href='https://aka.ms/vscodeJupyterKernelCrash'>here</a> for more info. \n",
      "\u001b[1;31mView Jupyter <a href='command:jupyter.viewOutput'>log</a> for further details."
     ]
    }
   ],
   "source": [
    "#Verificamos\n",
    "print(texto)"
   ]
  }
 ],
 "metadata": {
  "kernelspec": {
   "display_name": "base",
   "language": "python",
   "name": "python3"
  },
  "language_info": {
   "codemirror_mode": {
    "name": "ipython",
    "version": 3
   },
   "file_extension": ".py",
   "mimetype": "text/x-python",
   "name": "python",
   "nbconvert_exporter": "python",
   "pygments_lexer": "ipython3",
   "version": "3.12.4"
  }
 },
 "nbformat": 4,
 "nbformat_minor": 2
}
